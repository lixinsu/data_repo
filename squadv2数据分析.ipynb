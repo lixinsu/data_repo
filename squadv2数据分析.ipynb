{
 "cells": [
  {
   "cell_type": "code",
   "execution_count": 1,
   "metadata": {},
   "outputs": [],
   "source": [
    "import os\n",
    "import sys\n",
    "import numpy as np\n",
    "import pandas as pd\n",
    "import json\n",
    "import random"
   ]
  },
  {
   "cell_type": "code",
   "execution_count": 2,
   "metadata": {},
   "outputs": [],
   "source": [
    "train_file = '/data/sulixin/research/contest/pytorch-pretrained-BERT/data/datasets/squadv2/train-v2.0.json'\n",
    "dev_file = '/data/sulixin/research/contest/pytorch-pretrained-BERT/data/datasets/squadv2/dev-v2.0.json'"
   ]
  },
  {
   "cell_type": "code",
   "execution_count": 3,
   "metadata": {},
   "outputs": [],
   "source": [
    "train = json.load(open(train_file))\n",
    "dev = json.load(open(dev_file))"
   ]
  },
  {
   "cell_type": "code",
   "execution_count": 4,
   "metadata": {},
   "outputs": [
    {
     "data": {
      "text/plain": [
       "dict_keys(['title', 'paragraphs'])"
      ]
     },
     "execution_count": 4,
     "metadata": {},
     "output_type": "execute_result"
    }
   ],
   "source": [
    "train['data'][0].keys()"
   ]
  },
  {
   "cell_type": "code",
   "execution_count": 20,
   "metadata": {},
   "outputs": [
    {
     "data": {
      "text/plain": [
       "{'qas': [{'question': 'What is the French name of the Canadian Armed Forces?',\n",
       "   'id': '56dde02666d3e219004dad6b',\n",
       "   'answers': [{'text': 'Forces armées canadiennes', 'answer_start': 40}],\n",
       "   'is_impossible': False},\n",
       "  {'question': 'What law constitutes the CAF?',\n",
       "   'id': '56dde02666d3e219004dad6c',\n",
       "   'answers': [{'text': 'the National Defence Act', 'answer_start': 191}],\n",
       "   'is_impossible': False},\n",
       "  {'question': 'Who are the CAF supposed to protect?',\n",
       "   'id': '56dde02666d3e219004dad6d',\n",
       "   'answers': [{'text': 'Her Majesty', 'answer_start': 276}],\n",
       "   'is_impossible': False},\n",
       "  {'question': 'What does CF stand for in this context?',\n",
       "   'id': '56dde02666d3e219004dad6e',\n",
       "   'answers': [{'text': 'Forces canadiennes', 'answer_start': 110}],\n",
       "   'is_impossible': False},\n",
       "  {'plausible_answers': [{'text': 'Canadian Armed Forces', 'answer_start': 4}],\n",
       "   'question': 'What does CFA stand for?',\n",
       "   'id': '5ad3714d604f3c001a3fe285',\n",
       "   'answers': [],\n",
       "   'is_impossible': True},\n",
       "  {'plausible_answers': [{'text': '\"The Canadian Forces are the armed forces of Her Majesty raised by Canada and consist of one Service called the Canadian Armed Forces.',\n",
       "     'answer_start': 231}],\n",
       "   'question': 'What does the Canadian Armed Forces Act state?',\n",
       "   'id': '5ad3714d604f3c001a3fe286',\n",
       "   'answers': [],\n",
       "   'is_impossible': True},\n",
       "  {'plausible_answers': [{'text': 'National Defence Act',\n",
       "     'answer_start': 195}],\n",
       "   'question': 'What act names the leader of the les cnadiennes Forces as Her Majesty?',\n",
       "   'id': '5ad3714d604f3c001a3fe287',\n",
       "   'answers': [],\n",
       "   'is_impossible': True},\n",
       "  {'plausible_answers': [{'text': 'Forces armées canadiennes',\n",
       "     'answer_start': 40}],\n",
       "   'question': 'What is the Italian name of the Canadian Armed Forces?',\n",
       "   'id': '5ad3e002604f3c001a3ff4ab',\n",
       "   'answers': [],\n",
       "   'is_impossible': True},\n",
       "  {'plausible_answers': [{'text': 'National Defence Act',\n",
       "     'answer_start': 195}],\n",
       "   'question': ' What law constitutes the CEF?',\n",
       "   'id': '5ad3e002604f3c001a3ff4ac',\n",
       "   'answers': [],\n",
       "   'is_impossible': True},\n",
       "  {'plausible_answers': [{'text': 'Her Majesty', 'answer_start': 276}],\n",
       "   'question': \" Who aren't the CAF supposed to protect?\",\n",
       "   'id': '5ad3e002604f3c001a3ff4ad',\n",
       "   'answers': [],\n",
       "   'is_impossible': True},\n",
       "  {'plausible_answers': [{'text': 'Forces canadiennes', 'answer_start': 110}],\n",
       "   'question': ' What does COF stand for in this context?',\n",
       "   'id': '5ad3e002604f3c001a3ff4ae',\n",
       "   'answers': [],\n",
       "   'is_impossible': True}],\n",
       " 'context': 'The Canadian Armed Forces (CAF; French: Forces armées canadiennes, FAC), or Canadian Forces (CF) (French: les Forces canadiennes, FC), is the unified armed force of Canada, as constituted by the National Defence Act, which states: \"The Canadian Forces are the armed forces of Her Majesty raised by Canada and consist of one Service called the Canadian Armed Forces.\"'}"
      ]
     },
     "execution_count": 20,
     "metadata": {},
     "output_type": "execute_result"
    }
   ],
   "source": [
    "train['data'][23]['paragraphs'][0]"
   ]
  },
  {
   "cell_type": "code",
   "execution_count": 24,
   "metadata": {},
   "outputs": [],
   "source": [
    "def iter_para(data):\n",
    "    for w in data:\n",
    "        for p in w['paragraphs']:\n",
    "            yield p\n",
    "\n",
    "def iter_qa(data):\n",
    "    for w in data:\n",
    "        for p in w['paragraphs']:\n",
    "            for qa in p['qas']:\n",
    "                yield qa\n",
    "\n",
    "            \n",
    "def word_len(x):\n",
    "    return len(x.split())\n",
    "\n",
    "def avg(li):\n",
    "    if len(li) == 0:\n",
    "        return None\n",
    "    return sum(li) * 1.0 / len(li)\n",
    "\n",
    "def avg_query_len(c):\n",
    "    return avg( [word_len(qa['question']) for qa in c['qas'] ] )\n",
    "\n",
    "def qa_cnt(c):\n",
    "    return len(c['qas'])\n",
    "    \n",
    "def my_stat(data):\n",
    "    rv = {'para_len': [word_len(x['context']) for x in iter_para(data)],\\\n",
    "          'ques_len': [avg_query_len(x) for x in iter_para(data)],\\\n",
    "          'qa_cnt': [qa_cnt(x) for x in iter_para(data)],\\\n",
    "         }\n",
    "    return pd.DataFrame(rv).describe()\n",
    "\n",
    "def my_stat_query(data):\n",
    "    rv = {'ques_len1': [word_len(qa['question']) for qa in iter_qa(data)],\\\n",
    "          'ans_len': [(word_len(qa['answers'][0]['text']) if not qa['is_impossible'] else 0) for qa in iter_qa(data)],\\\n",
    "          'answerable': [int(not qa['is_impossible']) for qa in iter_qa(data)]\n",
    "    }\n",
    "    return pd.DataFrame(rv).describe()\n"
   ]
  },
  {
   "cell_type": "code",
   "execution_count": 25,
   "metadata": {},
   "outputs": [
    {
     "data": {
      "text/html": [
       "<div>\n",
       "<style scoped>\n",
       "    .dataframe tbody tr th:only-of-type {\n",
       "        vertical-align: middle;\n",
       "    }\n",
       "\n",
       "    .dataframe tbody tr th {\n",
       "        vertical-align: top;\n",
       "    }\n",
       "\n",
       "    .dataframe thead th {\n",
       "        text-align: right;\n",
       "    }\n",
       "</style>\n",
       "<table border=\"1\" class=\"dataframe\">\n",
       "  <thead>\n",
       "    <tr style=\"text-align: right;\">\n",
       "      <th></th>\n",
       "      <th>para_len</th>\n",
       "      <th>ques_len</th>\n",
       "      <th>qa_cnt</th>\n",
       "    </tr>\n",
       "  </thead>\n",
       "  <tbody>\n",
       "    <tr>\n",
       "      <th>count</th>\n",
       "      <td>19035.000000</td>\n",
       "      <td>19035.000000</td>\n",
       "      <td>19035.000000</td>\n",
       "    </tr>\n",
       "    <tr>\n",
       "      <th>mean</th>\n",
       "      <td>116.585500</td>\n",
       "      <td>9.953592</td>\n",
       "      <td>6.846283</td>\n",
       "    </tr>\n",
       "    <tr>\n",
       "      <th>std</th>\n",
       "      <td>49.670155</td>\n",
       "      <td>2.266163</td>\n",
       "      <td>3.090609</td>\n",
       "    </tr>\n",
       "    <tr>\n",
       "      <th>min</th>\n",
       "      <td>20.000000</td>\n",
       "      <td>4.000000</td>\n",
       "      <td>1.000000</td>\n",
       "    </tr>\n",
       "    <tr>\n",
       "      <th>25%</th>\n",
       "      <td>87.000000</td>\n",
       "      <td>8.400000</td>\n",
       "      <td>5.000000</td>\n",
       "    </tr>\n",
       "    <tr>\n",
       "      <th>50%</th>\n",
       "      <td>107.000000</td>\n",
       "      <td>9.666667</td>\n",
       "      <td>5.000000</td>\n",
       "    </tr>\n",
       "    <tr>\n",
       "      <th>75%</th>\n",
       "      <td>139.000000</td>\n",
       "      <td>11.200000</td>\n",
       "      <td>9.000000</td>\n",
       "    </tr>\n",
       "    <tr>\n",
       "      <th>max</th>\n",
       "      <td>653.000000</td>\n",
       "      <td>29.000000</td>\n",
       "      <td>30.000000</td>\n",
       "    </tr>\n",
       "  </tbody>\n",
       "</table>\n",
       "</div>"
      ],
      "text/plain": [
       "           para_len      ques_len        qa_cnt\n",
       "count  19035.000000  19035.000000  19035.000000\n",
       "mean     116.585500      9.953592      6.846283\n",
       "std       49.670155      2.266163      3.090609\n",
       "min       20.000000      4.000000      1.000000\n",
       "25%       87.000000      8.400000      5.000000\n",
       "50%      107.000000      9.666667      5.000000\n",
       "75%      139.000000     11.200000      9.000000\n",
       "max      653.000000     29.000000     30.000000"
      ]
     },
     "execution_count": 25,
     "metadata": {},
     "output_type": "execute_result"
    }
   ],
   "source": [
    "my_stat(train['data'])"
   ]
  },
  {
   "cell_type": "code",
   "execution_count": 26,
   "metadata": {},
   "outputs": [
    {
     "data": {
      "text/html": [
       "<div>\n",
       "<style scoped>\n",
       "    .dataframe tbody tr th:only-of-type {\n",
       "        vertical-align: middle;\n",
       "    }\n",
       "\n",
       "    .dataframe tbody tr th {\n",
       "        vertical-align: top;\n",
       "    }\n",
       "\n",
       "    .dataframe thead th {\n",
       "        text-align: right;\n",
       "    }\n",
       "</style>\n",
       "<table border=\"1\" class=\"dataframe\">\n",
       "  <thead>\n",
       "    <tr style=\"text-align: right;\">\n",
       "      <th></th>\n",
       "      <th>ques_len1</th>\n",
       "      <th>ans_len</th>\n",
       "      <th>answerable</th>\n",
       "    </tr>\n",
       "  </thead>\n",
       "  <tbody>\n",
       "    <tr>\n",
       "      <th>count</th>\n",
       "      <td>130319.000000</td>\n",
       "      <td>130319.000000</td>\n",
       "      <td>130319.000000</td>\n",
       "    </tr>\n",
       "    <tr>\n",
       "      <th>mean</th>\n",
       "      <td>9.893822</td>\n",
       "      <td>2.107099</td>\n",
       "      <td>0.666219</td>\n",
       "    </tr>\n",
       "    <tr>\n",
       "      <th>std</th>\n",
       "      <td>3.418829</td>\n",
       "      <td>3.144031</td>\n",
       "      <td>0.471564</td>\n",
       "    </tr>\n",
       "    <tr>\n",
       "      <th>min</th>\n",
       "      <td>1.000000</td>\n",
       "      <td>0.000000</td>\n",
       "      <td>0.000000</td>\n",
       "    </tr>\n",
       "    <tr>\n",
       "      <th>25%</th>\n",
       "      <td>7.000000</td>\n",
       "      <td>0.000000</td>\n",
       "      <td>0.000000</td>\n",
       "    </tr>\n",
       "    <tr>\n",
       "      <th>50%</th>\n",
       "      <td>9.000000</td>\n",
       "      <td>1.000000</td>\n",
       "      <td>1.000000</td>\n",
       "    </tr>\n",
       "    <tr>\n",
       "      <th>75%</th>\n",
       "      <td>12.000000</td>\n",
       "      <td>3.000000</td>\n",
       "      <td>1.000000</td>\n",
       "    </tr>\n",
       "    <tr>\n",
       "      <th>max</th>\n",
       "      <td>40.000000</td>\n",
       "      <td>43.000000</td>\n",
       "      <td>1.000000</td>\n",
       "    </tr>\n",
       "  </tbody>\n",
       "</table>\n",
       "</div>"
      ],
      "text/plain": [
       "           ques_len1        ans_len     answerable\n",
       "count  130319.000000  130319.000000  130319.000000\n",
       "mean        9.893822       2.107099       0.666219\n",
       "std         3.418829       3.144031       0.471564\n",
       "min         1.000000       0.000000       0.000000\n",
       "25%         7.000000       0.000000       0.000000\n",
       "50%         9.000000       1.000000       1.000000\n",
       "75%        12.000000       3.000000       1.000000\n",
       "max        40.000000      43.000000       1.000000"
      ]
     },
     "execution_count": 26,
     "metadata": {},
     "output_type": "execute_result"
    }
   ],
   "source": [
    "my_stat_query(train['data'])"
   ]
  },
  {
   "cell_type": "code",
   "execution_count": null,
   "metadata": {},
   "outputs": [],
   "source": []
  }
 ],
 "metadata": {
  "kernelspec": {
   "display_name": "Python 3",
   "language": "python",
   "name": "python3"
  },
  "language_info": {
   "codemirror_mode": {
    "name": "ipython",
    "version": 3
   },
   "file_extension": ".py",
   "mimetype": "text/x-python",
   "name": "python",
   "nbconvert_exporter": "python",
   "pygments_lexer": "ipython3",
   "version": "3.7.0"
  }
 },
 "nbformat": 4,
 "nbformat_minor": 2
}
