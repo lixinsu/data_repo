{
 "cells": [
  {
   "cell_type": "code",
   "execution_count": 1,
   "metadata": {},
   "outputs": [],
   "source": [
    "import os\n",
    "import sys\n",
    "import numpy as np\n",
    "import pandas as pd\n",
    "import json\n",
    "import random"
   ]
  },
  {
   "cell_type": "code",
   "execution_count": 2,
   "metadata": {},
   "outputs": [],
   "source": [
    "train_file = '/data/sulixin/research/contest/coqa/coqa-train-v1.0.json'\n",
    "dev_file = '/data/sulixin/research/contest/coqa/coqa-dev-v1.0.json'"
   ]
  },
  {
   "cell_type": "code",
   "execution_count": 3,
   "metadata": {},
   "outputs": [],
   "source": [
    "train = json.load(open(train_file))\n",
    "dev = json.load(open(dev_file))"
   ]
  },
  {
   "cell_type": "code",
   "execution_count": 7,
   "metadata": {},
   "outputs": [
    {
     "data": {
      "text/plain": [
       "dict_keys(['source', 'id', 'filename', 'story', 'questions', 'answers', 'additional_answers', 'name'])"
      ]
     },
     "execution_count": 7,
     "metadata": {},
     "output_type": "execute_result"
    }
   ],
   "source": [
    "dev['data'][1].keys()"
   ]
  },
  {
   "cell_type": "code",
   "execution_count": 9,
   "metadata": {},
   "outputs": [
    {
     "name": "stdout",
     "output_type": "stream",
     "text": [
      "paragraph 7199\n",
      "paragraph 500\n",
      "116630\n",
      "7983\n"
     ]
    }
   ],
   "source": [
    "def basic_stat(data):\n",
    "    print('paragraph {}'.format(len(data)))\n",
    "\n",
    "def count_q(data):\n",
    "    print( sum([len(d['questions']) for d in data]) )\n",
    "basic_stat(train['data'])\n",
    "basic_stat(dev['data'])\n",
    "count_q(train['data'] + dev['data'])\n",
    "count_q(dev['data'])\n"
   ]
  },
  {
   "cell_type": "code",
   "execution_count": null,
   "metadata": {},
   "outputs": [],
   "source": []
  },
  {
   "cell_type": "code",
   "execution_count": 5,
   "metadata": {
    "scrolled": false
   },
   "outputs": [
    {
     "data": {
      "text/html": [
       "<div>\n",
       "<style scoped>\n",
       "    .dataframe tbody tr th:only-of-type {\n",
       "        vertical-align: middle;\n",
       "    }\n",
       "\n",
       "    .dataframe tbody tr th {\n",
       "        vertical-align: top;\n",
       "    }\n",
       "\n",
       "    .dataframe thead th {\n",
       "        text-align: right;\n",
       "    }\n",
       "</style>\n",
       "<table border=\"1\" class=\"dataframe\">\n",
       "  <thead>\n",
       "    <tr style=\"text-align: right;\">\n",
       "      <th></th>\n",
       "      <th>p_len</th>\n",
       "      <th>q_cnt</th>\n",
       "      <th>q_len</th>\n",
       "      <th>e_len</th>\n",
       "      <th>a_len</th>\n",
       "    </tr>\n",
       "  </thead>\n",
       "  <tbody>\n",
       "    <tr>\n",
       "      <th>count</th>\n",
       "      <td>7199.000000</td>\n",
       "      <td>7199.000000</td>\n",
       "      <td>7199.000000</td>\n",
       "      <td>7199.000000</td>\n",
       "      <td>7199.000000</td>\n",
       "    </tr>\n",
       "    <tr>\n",
       "      <th>mean</th>\n",
       "      <td>271.027921</td>\n",
       "      <td>15.091957</td>\n",
       "      <td>5.529221</td>\n",
       "      <td>9.179779</td>\n",
       "      <td>2.710168</td>\n",
       "    </tr>\n",
       "    <tr>\n",
       "      <th>std</th>\n",
       "      <td>64.887341</td>\n",
       "      <td>5.175674</td>\n",
       "      <td>1.185452</td>\n",
       "      <td>5.525090</td>\n",
       "      <td>1.505473</td>\n",
       "    </tr>\n",
       "    <tr>\n",
       "      <th>min</th>\n",
       "      <td>70.000000</td>\n",
       "      <td>1.000000</td>\n",
       "      <td>2.400000</td>\n",
       "      <td>1.000000</td>\n",
       "      <td>1.000000</td>\n",
       "    </tr>\n",
       "    <tr>\n",
       "      <th>25%</th>\n",
       "      <td>245.000000</td>\n",
       "      <td>11.000000</td>\n",
       "      <td>4.736842</td>\n",
       "      <td>5.146429</td>\n",
       "      <td>1.950000</td>\n",
       "    </tr>\n",
       "    <tr>\n",
       "      <th>50%</th>\n",
       "      <td>266.000000</td>\n",
       "      <td>16.000000</td>\n",
       "      <td>5.400000</td>\n",
       "      <td>8.500000</td>\n",
       "      <td>2.444444</td>\n",
       "    </tr>\n",
       "    <tr>\n",
       "      <th>75%</th>\n",
       "      <td>293.000000</td>\n",
       "      <td>20.000000</td>\n",
       "      <td>6.150000</td>\n",
       "      <td>11.900000</td>\n",
       "      <td>3.100000</td>\n",
       "    </tr>\n",
       "    <tr>\n",
       "      <th>max</th>\n",
       "      <td>1030.000000</td>\n",
       "      <td>36.000000</td>\n",
       "      <td>14.000000</td>\n",
       "      <td>76.000000</td>\n",
       "      <td>76.000000</td>\n",
       "    </tr>\n",
       "  </tbody>\n",
       "</table>\n",
       "</div>"
      ],
      "text/plain": [
       "             p_len        q_cnt        q_len        e_len        a_len\n",
       "count  7199.000000  7199.000000  7199.000000  7199.000000  7199.000000\n",
       "mean    271.027921    15.091957     5.529221     9.179779     2.710168\n",
       "std      64.887341     5.175674     1.185452     5.525090     1.505473\n",
       "min      70.000000     1.000000     2.400000     1.000000     1.000000\n",
       "25%     245.000000    11.000000     4.736842     5.146429     1.950000\n",
       "50%     266.000000    16.000000     5.400000     8.500000     2.444444\n",
       "75%     293.000000    20.000000     6.150000    11.900000     3.100000\n",
       "max    1030.000000    36.000000    14.000000    76.000000    76.000000"
      ]
     },
     "execution_count": 5,
     "metadata": {},
     "output_type": "execute_result"
    }
   ],
   "source": [
    "def avg_len(qs):\n",
    "    lens = [len(q['input_text'].split()) for q in qs]\n",
    "    return sum(lens) * 1.0 / len(lens)\n",
    "\n",
    "def avg_span_len(qs):\n",
    "    lens = [len(q['span_text'].split()) for q in qs]\n",
    "    return sum(lens) * 1.0 / len(lens)\n",
    "\n",
    "def avg_answer_len(qs):\n",
    "    lens = [len(q['input_text'].split()) for q in qs]\n",
    "    return sum(lens) * 1.0 / len(lens)\n",
    "\n",
    "\n",
    "def my_stat(data):\n",
    "    rv = {'p_len': [len(d['story'].split()) for d in data], \\\n",
    "          'q_cnt': [len(d['questions']) for d in data],\\\n",
    "          'q_len': [avg_len(d['questions']) for d in data],\\\n",
    "          'e_len': [avg_span_len(d['answers']) for d in data],\\\n",
    "          'a_len': [avg_answer_len(d['answers']) for d in data],\\\n",
    "          'p_source': [d['source'] for d in data]\n",
    "         }\n",
    "    rv = pd.DataFrame(rv)\n",
    "    return rv.describe()\n",
    "\n",
    "my_stat(train['data'])"
   ]
  },
  {
   "cell_type": "code",
   "execution_count": 6,
   "metadata": {
    "scrolled": false
   },
   "outputs": [
    {
     "name": "stdout",
     "output_type": "stream",
     "text": [
      "Santa Monica is a beachfront city in western Los Angeles County, California, United States. The city is named after the Christian saint, Monica. Situated on Santa Monica Bay, it is bordered on three sides by the city of Los Angeles – Pacific Palisades to the north, Brentwood on the northeast, Sawtelle on the east, Mar Vista on the southeast, and Venice on the south. Santa Monica is well known for its affluent single-family neighborhoods but also has many neighborhoods consisting primarily of condominiums and apartments. Over two-thirds of Santa Monica's residents are renters. The Census Bureau population for Santa Monica in 2010 was 89,736. \n",
      "\n",
      "Santa Monica was long inhabited by the Tongva people. Santa Monica was called Kecheek in the Tongva language. The first non-indigenous group to set foot in the area was the party of explorer Gaspar de Portolà, who camped near the present day intersection of Barrington and Ohio Avenues on August 3, 1769. There are two different versions of the naming of the city. One says that it was named in honor of the feast day of Saint Monica (mother of Saint Augustine), but her feast day is actually May 4. Another version says that it was named by Juan Crespí on account of a pair of springs, the Kuruvungna Springs (Serra Springs), that were reminiscent of the tears that Saint Monica shed over her son's early impiety.\n",
      "====1====\n",
      "Q:What city borders Santa Monica to the North\n",
      "E:Pacific Palisades\n",
      "A:Pacific Palisades\n",
      "====2====\n",
      "Q:Who had been living there for awhile?\n",
      "E:Tongva people\n",
      "A:Tongva people\n",
      "====3====\n",
      "Q:When did Gaspar first camp there?\n",
      "E:August 3, 1769\n",
      "A:August 3, 1769\n",
      "====4====\n",
      "Q:What is it known for in the current day?\n",
      "E:intersection of Barrington and Ohio Avenues\n",
      "A:intersection of Barrington and Ohio Avenues\n",
      "====5====\n",
      "Q:What kind of neighborhoods are there?\n",
      "E:single-family\n",
      "A:single-family\n",
      "====6====\n",
      "Q:Are the families generally considered to be in lower social classes?\n",
      "E:affluent\n",
      "A:no\n",
      "====7====\n",
      "Q:In one of the versions of the naming who cried the tears the springs reminded people of?\n",
      "E:Saint Monica\n",
      "A:Saint Monica\n",
      "====8====\n",
      "Q:What was she crying about?\n",
      "E:her son's early impiety\n",
      "A:her son's early impiety\n",
      "====9====\n",
      "Q:What is the other story of the naming?\n",
      "E:feast day of Saint Monica\n",
      "A:feast day of Saint Monica\n",
      "====10====\n",
      "Q:When is that actual date?\n",
      "E:May 4\n",
      "A:May 4\n",
      "====11====\n",
      "Q:What kind of city is it?\n",
      "E:beachfront\n",
      "A:beachfront\n"
     ]
    }
   ],
   "source": [
    "def pretty_instance(data):\n",
    "    print(data['story'])\n",
    "    for q,a in zip(data['questions'], data['answers']):\n",
    "        print('===={}===='.format(q['turn_id']))\n",
    "        print('Q:{}'.format(q['input_text']))\n",
    "        print('E:{}'.format(a['span_text']))\n",
    "        print('A:{}'.format(a['input_text']))\n",
    "pretty_instance(random.choice(train['data']))\n"
   ]
  },
  {
   "cell_type": "code",
   "execution_count": null,
   "metadata": {},
   "outputs": [],
   "source": []
  }
 ],
 "metadata": {
  "kernelspec": {
   "display_name": "Python 3",
   "language": "python",
   "name": "python3"
  },
  "language_info": {
   "codemirror_mode": {
    "name": "ipython",
    "version": 3
   },
   "file_extension": ".py",
   "mimetype": "text/x-python",
   "name": "python",
   "nbconvert_exporter": "python",
   "pygments_lexer": "ipython3",
   "version": "3.6.7"
  }
 },
 "nbformat": 4,
 "nbformat_minor": 2
}
