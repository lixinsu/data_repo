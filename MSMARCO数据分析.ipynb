{
 "cells": [
  {
   "cell_type": "markdown",
   "metadata": {},
   "source": [
    "# 数据分析"
   ]
  },
  {
   "cell_type": "code",
   "execution_count": 3,
   "metadata": {},
   "outputs": [],
   "source": [
    "import os\n",
    "import sys\n",
    "import json\n",
    "import pandas as pd\n",
    "import numpy as np"
   ]
  },
  {
   "cell_type": "code",
   "execution_count": 37,
   "metadata": {},
   "outputs": [],
   "source": [
    "train_file = \"/data/sulixin/research/contest/MSMARCO/data/datasets/msmarcov2/train_v2.1.json\"\n",
    "dev_file = \"/data/sulixin/research/contest/MSMARCO/data/datasets/msmarcov2/dev_v2.1.json\"\n",
    "test_file = \"/data/sulixin/research/contest/MSMARCO/data/datasets/msmarcov2/eval_v2.1_public.json\"\n",
    "#数据读入\n",
    "def load_dataset(filename):\n",
    "    data = json.load(open(filename))\n",
    "    print( '%s has %s samples' % (os.path.basename(filename),len(data['query'])  ))\n",
    "    return data "
   ]
  },
  {
   "cell_type": "code",
   "execution_count": 38,
   "metadata": {},
   "outputs": [
    {
     "name": "stdout",
     "output_type": "stream",
     "text": [
      "train_v2.1.json has 808731 samples\n",
      "dev_v2.1.json has 101093 samples\n",
      "eval_v2.1_public.json has 101092 samples\n"
     ]
    }
   ],
   "source": [
    "train = load_dataset(train_file)\n",
    "dev = load_dataset(dev_file)\n",
    "test = load_dataset(test_file)"
   ]
  },
  {
   "cell_type": "code",
   "execution_count": 39,
   "metadata": {},
   "outputs": [
    {
     "name": "stdout",
     "output_type": "stream",
     "text": [
      "quizlet how did existing industrial workers view immigrant industrial workers?\n"
     ]
    },
    {
     "data": {
      "text/plain": [
       "[{'is_selected': 0,\n",
       "  'passage_text': 'At this time the Industrial Workers of the World had a membership of over 100,000 members. In 1913 William Haywood replaced Vincent Saint John as secretary-treasurer of the Industrial Workers of the World. By this time, the IWW had 100,000 members.',\n",
       "  'url': 'http://spartacus-educational.com/USAiww.htm'},\n",
       " {'is_selected': 0,\n",
       "  'passage_text': \"This was not true of the Industrial Workers of the World and as a result many of its members were first and second generation immigrants. Several immigrants such as Mary 'Mother' Jones, Hubert Harrison, Carlo Tresca, Arturo Giovannitti and Joe Haaglund Hill became leaders of the organization.\",\n",
       "  'url': 'http://spartacus-educational.com/USAiww.htm'},\n",
       " {'is_selected': 0,\n",
       "  'passage_text': 'Chinese Immigration and the Chinese Exclusion Acts. In the 1850s, Chinese workers migrated to the United States, first to work in the gold mines, but also to take agricultural jobs, and factory work, especially in the garment industry.',\n",
       "  'url': 'https://history.state.gov/milestones/1866-1898/chinese-immigration'},\n",
       " {'is_selected': 0,\n",
       "  'passage_text': 'The Rise of Industrial America, 1877-1900. When in 1873 Mark Twain and Charles Dudley Warner entitled their co-authored novel The Gilded Age, they gave the late nineteenth century its popular name. The term reflected the combination of outward wealth and dazzle with inner corruption and poverty.',\n",
       "  'url': 'https://www.gilderlehrman.org/history-by-era/essays/rise-industrial-america-1877-1900'},\n",
       " {'is_selected': 0,\n",
       "  'passage_text': 'American objections to Chinese immigration took many forms, and generally stemmed from economic and cultural tensions, as well as ethnic discrimination. Most Chinese laborers who came to the United States did so in order to send money back to China to support their families there.',\n",
       "  'url': 'https://history.state.gov/milestones/1866-1898/chinese-immigration'},\n",
       " {'is_selected': 0,\n",
       "  'passage_text': 'The rise of industrial America, the dominance of wage labor, and the growth of cities represented perhaps the greatest changes of the period. Few Americans at the end of the Civil War had anticipated the rapid rise of American industry.',\n",
       "  'url': 'https://www.gilderlehrman.org/history-by-era/essays/rise-industrial-america-1877-1900'},\n",
       " {'is_selected': 0,\n",
       "  'passage_text': 'The resulting Angell Treaty permitted the United States to restrict, but not completely prohibit, Chinese immigration. In 1882, Congress passed the Chinese Exclusion Act, which, per the terms of the Angell Treaty, suspended the immigration of Chinese laborers (skilled or unskilled) for a period of 10 years.',\n",
       "  'url': 'https://history.state.gov/milestones/1866-1898/chinese-immigration'},\n",
       " {'is_selected': 0,\n",
       "  'passage_text': \"Industrial Workers of the World. In 1905 representatives of 43 groups who opposed the policies of American Federation of Labour, formed the radical labour organisation, the Industrial Workers of the World (IWW). The IWW's goal was to promote worker solidarity in the revolutionary struggle to overthrow the employing class.\",\n",
       "  'url': 'http://spartacus-educational.com/USAiww.htm'},\n",
       " {'is_selected': 0,\n",
       "  'passage_text': 'The railroads powered the industrial economy. They consumed the majority of iron and steel produced in the United States before 1890. As late as 1882, steel rails accounted for 90 percent of the steel production in the United States. They were the nation’s largest consumer of lumber and a major consumer of coal.',\n",
       "  'url': 'https://www.gilderlehrman.org/history-by-era/essays/rise-industrial-america-1877-1900'},\n",
       " {'is_selected': 0,\n",
       "  'passage_text': 'This finally resulted in legislation that aimed to limit future immigration of Chinese workers to the United States, and threatened to sour diplomatic relations between the United States and China.',\n",
       "  'url': 'https://history.state.gov/milestones/1866-1898/chinese-immigration'}]"
      ]
     },
     "execution_count": 39,
     "metadata": {},
     "output_type": "execute_result"
    }
   ],
   "source": [
    "print(train_df.iloc[100]['query'])\n",
    "train_df.iloc[100]['passages']"
   ]
  },
  {
   "cell_type": "code",
   "execution_count": 42,
   "metadata": {},
   "outputs": [],
   "source": [
    "def text_len(text):\n",
    "    return len(text.split())\n",
    "\n",
    "def list_len(li):\n",
    "    return len(li)\n",
    "\n",
    "def avg_text_len(passages):\n",
    "    lens = [len(p['passage_text'].split()) for p in passages]\n",
    "    return sum(lens) * 1.0 / len(lens)\n",
    "\n",
    "def avg_len(texts):\n",
    "    lens = [len(t.split()) for t in texts]\n",
    "    return sum(lens) * 1.0 / len(lens)\n",
    "\n",
    "def select_cnt(ps):\n",
    "    return sum([p['is_selected'] for p in ps])\n",
    "\n",
    "def x_hit(idx):\n",
    "    def func(ps):\n",
    "        if idx >= len(ps):\n",
    "            return None\n",
    "        return ps[idx]['is_selected']\n",
    "    return func\n",
    "\n",
    "def has_answer(passages):\n",
    "    return len([p for p in passages if p['is_selected']]) > 0 \n",
    "\n",
    "\n",
    "def my_stat(data):\n",
    "    train_df['q_len'] = train_df['query'].apply(text_len)\n",
    "    train_df['a_cnt'] = train_df['answers'].apply(list_len)\n",
    "    train_df['a_len'] = train_df['answers'].apply(avg_len)\n",
    "    train_df['p_cnt'] = train_df['passages'].apply(list_len)\n",
    "    train_df['p_len'] = train_df['passages'].apply(avg_text_len)\n",
    "    train_df['select'] = train_df['passages'].apply(select_cnt)\n",
    "    train_df['has_answer'] = train_df['passages'].apply(has_answer)\n",
    "    for i in range(10):\n",
    "        train_df['%s_hit' % i] = train_df['passages'].apply(x_hit(i))\n",
    "    print('-----overall----')\n",
    "    print(train_df.describe())\n",
    "    print('-----answerable------')\n",
    "    print(train_df[train_df['has_answer']==1].describe())\n",
    "    print('-----unanswreable-----')\n",
    "    print(train_df[train_df['has_answer']==0].describe())"
   ]
  },
  {
   "cell_type": "code",
   "execution_count": 43,
   "metadata": {
    "scrolled": false
   },
   "outputs": [
    {
     "name": "stdout",
     "output_type": "stream",
     "text": [
      "-----overall----\n",
      "           query_id          q_len          a_cnt          p_cnt  \\\n",
      "count  8.087310e+05  808731.000000  808731.000000  808731.000000   \n",
      "mean   5.704129e+05       6.365910       1.017121       9.978286   \n",
      "std    3.350953e+05       2.648773       0.130339       0.375860   \n",
      "min    1.000000e+00       1.000000       1.000000       1.000000   \n",
      "25%    2.825540e+05       5.000000       1.000000      10.000000   \n",
      "50%    5.615370e+05       6.000000       1.000000      10.000000   \n",
      "75%    8.576385e+05       8.000000       1.000000      10.000000   \n",
      "max    1.185869e+06      75.000000       6.000000      27.000000   \n",
      "\n",
      "               p_len          a_len         select          0_hit  \\\n",
      "count  808731.000000  808731.000000  808731.000000  808731.000000   \n",
      "mean       56.478839       9.151124       0.658762       0.121996   \n",
      "std        17.640566      11.294580       0.559099       0.327281   \n",
      "min        11.000000       0.000000       0.000000       0.000000   \n",
      "25%        45.600000       3.000000       0.000000       0.000000   \n",
      "50%        50.400000       3.000000       1.000000       0.000000   \n",
      "75%        57.600000      12.000000       1.000000       0.000000   \n",
      "max       165.000000     187.000000       7.000000       1.000000   \n",
      "\n",
      "               1_hit          2_hit          3_hit          4_hit  \\\n",
      "count  808703.000000  808659.000000  808591.000000  808522.000000   \n",
      "mean        0.091083       0.075588       0.065906       0.059537   \n",
      "std         0.287727       0.264338       0.248118       0.236627   \n",
      "min         0.000000       0.000000       0.000000       0.000000   \n",
      "25%         0.000000       0.000000       0.000000       0.000000   \n",
      "50%         0.000000       0.000000       0.000000       0.000000   \n",
      "75%         0.000000       0.000000       0.000000       0.000000   \n",
      "max         1.000000       1.000000       1.000000       1.000000   \n",
      "\n",
      "               5_hit          6_hit          7_hit          8_hit  \\\n",
      "count  808372.000000  806958.000000  805112.000000  802703.000000   \n",
      "mean        0.054378       0.051371       0.048417       0.045648   \n",
      "std         0.226763       0.220753       0.214646       0.208721   \n",
      "min         0.000000       0.000000       0.000000       0.000000   \n",
      "25%         0.000000       0.000000       0.000000       0.000000   \n",
      "50%         0.000000       0.000000       0.000000       0.000000   \n",
      "75%         0.000000       0.000000       0.000000       0.000000   \n",
      "max         1.000000       1.000000       1.000000       1.000000   \n",
      "\n",
      "               9_hit  \n",
      "count  799471.000000  \n",
      "mean        0.045965  \n",
      "std         0.209410  \n",
      "min         0.000000  \n",
      "25%         0.000000  \n",
      "50%         0.000000  \n",
      "75%         0.000000  \n",
      "max         1.000000  \n",
      "-----answerable------\n",
      "           query_id          q_len         a_cnt          p_cnt  \\\n",
      "count  5.029390e+05  502939.000000  502939.00000  502939.000000   \n",
      "mean   5.908184e+05       5.968259       1.02753       9.983907   \n",
      "std    3.340058e+05       2.432616       0.16441       0.370251   \n",
      "min    3.000000e+00       1.000000       1.00000       1.000000   \n",
      "25%    2.973185e+05       4.000000       1.00000      10.000000   \n",
      "50%    6.050350e+05       6.000000       1.00000      10.000000   \n",
      "75%    8.705045e+05       7.000000       1.00000      10.000000   \n",
      "max    1.185869e+06      38.000000       6.00000      27.000000   \n",
      "\n",
      "               p_len          a_len         select          0_hit  \\\n",
      "count  502939.000000  502939.000000  502939.000000  502939.000000   \n",
      "mean       56.414487      12.893633       1.059295       0.196171   \n",
      "std        17.276433      12.964549       0.279941       0.397100   \n",
      "min        17.900000       0.000000       1.000000       0.000000   \n",
      "25%        45.700000       3.000000       1.000000       0.000000   \n",
      "50%        50.500000       9.000000       1.000000       0.000000   \n",
      "75%        57.900000      19.000000       1.000000       0.000000   \n",
      "max       151.300000     187.000000       7.000000       1.000000   \n",
      "\n",
      "               1_hit          2_hit          3_hit          4_hit  \\\n",
      "count  502938.000000  502935.000000  502930.000000  502913.000000   \n",
      "mean        0.146457       0.121537       0.105961       0.095716   \n",
      "std         0.353565       0.326750       0.307788       0.294202   \n",
      "min         0.000000       0.000000       0.000000       0.000000   \n",
      "25%         0.000000       0.000000       0.000000       0.000000   \n",
      "50%         0.000000       0.000000       0.000000       0.000000   \n",
      "75%         0.000000       0.000000       0.000000       0.000000   \n",
      "max         1.000000       1.000000       1.000000       1.000000   \n",
      "\n",
      "               5_hit          6_hit          7_hit          8_hit  \\\n",
      "count  502885.000000  502130.000000  501115.000000  499683.000000   \n",
      "mean        0.087412       0.082556       0.077789       0.073330   \n",
      "std         0.282438       0.275211       0.267839       0.260678   \n",
      "min         0.000000       0.000000       0.000000       0.000000   \n",
      "25%         0.000000       0.000000       0.000000       0.000000   \n",
      "50%         0.000000       0.000000       0.000000       0.000000   \n",
      "75%         0.000000       0.000000       0.000000       0.000000   \n",
      "max         1.000000       1.000000       1.000000       1.000000   \n",
      "\n",
      "               9_hit  \n",
      "count  497697.000000  \n",
      "mean        0.073836  \n",
      "std         0.261504  \n",
      "min         0.000000  \n",
      "25%         0.000000  \n",
      "50%         0.000000  \n",
      "75%         0.000000  \n",
      "max         1.000000  \n",
      "-----unanswreable-----\n",
      "           query_id          q_len     a_cnt          p_cnt          p_len  \\\n",
      "count  3.057920e+05  305792.000000  305792.0  305792.000000  305792.000000   \n",
      "mean   5.368519e+05       7.019932       1.0       9.969041      56.584680   \n",
      "std    3.341812e+05       2.852142       0.0       0.384728      18.223175   \n",
      "min    1.000000e+00       1.000000       1.0       1.000000      11.000000   \n",
      "25%    2.569568e+05       5.000000       1.0      10.000000      45.600000   \n",
      "50%    4.886860e+05       7.000000       1.0      10.000000      50.200000   \n",
      "75%    8.337098e+05       8.000000       1.0      10.000000      57.200000   \n",
      "max    1.185857e+06      75.000000       1.0      27.000000     165.000000   \n",
      "\n",
      "               a_len    select     0_hit     1_hit     2_hit     3_hit  \\\n",
      "count  305792.000000  305792.0  305792.0  305765.0  305724.0  305661.0   \n",
      "mean        2.995785       0.0       0.0       0.0       0.0       0.0   \n",
      "std         0.112317       0.0       0.0       0.0       0.0       0.0   \n",
      "min         0.000000       0.0       0.0       0.0       0.0       0.0   \n",
      "25%         3.000000       0.0       0.0       0.0       0.0       0.0   \n",
      "50%         3.000000       0.0       0.0       0.0       0.0       0.0   \n",
      "75%         3.000000       0.0       0.0       0.0       0.0       0.0   \n",
      "max         3.000000       0.0       0.0       0.0       0.0       0.0   \n",
      "\n",
      "          4_hit     5_hit     6_hit     7_hit     8_hit     9_hit  \n",
      "count  305609.0  305487.0  304828.0  303997.0  303020.0  301774.0  \n",
      "mean        0.0       0.0       0.0       0.0       0.0       0.0  \n",
      "std         0.0       0.0       0.0       0.0       0.0       0.0  \n",
      "min         0.0       0.0       0.0       0.0       0.0       0.0  \n",
      "25%         0.0       0.0       0.0       0.0       0.0       0.0  \n",
      "50%         0.0       0.0       0.0       0.0       0.0       0.0  \n",
      "75%         0.0       0.0       0.0       0.0       0.0       0.0  \n",
      "max         0.0       0.0       0.0       0.0       0.0       0.0  \n"
     ]
    }
   ],
   "source": [
    "my_stat(train)"
   ]
  },
  {
   "cell_type": "code",
   "execution_count": null,
   "metadata": {},
   "outputs": [],
   "source": []
  }
 ],
 "metadata": {
  "kernelspec": {
   "display_name": "Python 3",
   "language": "python",
   "name": "python3"
  },
  "language_info": {
   "codemirror_mode": {
    "name": "ipython",
    "version": 3
   },
   "file_extension": ".py",
   "mimetype": "text/x-python",
   "name": "python",
   "nbconvert_exporter": "python",
   "pygments_lexer": "ipython3",
   "version": "3.7.0"
  }
 },
 "nbformat": 4,
 "nbformat_minor": 2
}
